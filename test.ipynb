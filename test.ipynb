{
 "cells": [
  {
   "cell_type": "markdown",
   "id": "c568116f-54f3-4981-bd0c-a9e4de675037",
   "metadata": {},
   "source": [
    "This is a test notebook to make sure that I can code in Jupyter and save the notebook to GitHub"
   ]
  },
  {
   "cell_type": "code",
   "execution_count": 2,
   "id": "f3f1e860-66ea-4f58-b70b-12a77069f272",
   "metadata": {},
   "outputs": [
    {
     "name": "stdout",
     "output_type": "stream",
     "text": [
      "toggleButton was pressed\n",
      "toggleButton is now OFF\n",
      "toggleButton was pressed\n",
      "toggleButton is now ON\n"
     ]
    }
   ],
   "source": [
    "#Here is some code from intro to CS\n",
    "class Button: \n",
    "    \"A simple BUtton class to represent a UI Button element\"\n",
    "    def __init__(self, text = \"button\"):\n",
    "        \"Create a Button and assign it a label\"\n",
    "        self.label = text\n",
    "    def press(self): \n",
    "        \"Simply print that the button was pressed\"\n",
    "        print(f\"{self.label} was pressed\")\n",
    "\n",
    "class ToggleButton(Button):\n",
    "    \"A subclass to represent an ON?OFF switch for the BUtton class\"\n",
    "    def __init__(self, label = \"toggleButton\", state = True): \n",
    "        \"Create a switch and gives it a state\"\n",
    "        super().__init__(text = \"button\")\n",
    "        self.label = label\n",
    "        self.state = state\n",
    "    def press(self):\n",
    "        \"Changes and prints the state of the button and the fact that it was pressed\"\n",
    "        super().press()\n",
    "        if self.state is True: \n",
    "            self.state = False\n",
    "        else: \n",
    "            self.state = True\n",
    "        if self.state is True: \n",
    "            print(f\"{self.label} is now ON\")\n",
    "        else: \n",
    "            print(f\"{self.label} is now OFF\")\n",
    "\n",
    "b = ToggleButton()\n",
    "b.press()\n",
    "b.press()"
   ]
  },
  {
   "cell_type": "markdown",
   "id": "3abc300b-56ae-4035-b07d-7440f70f7f20",
   "metadata": {},
   "source": [
    "We will see this type of object-oriented programming, with classes and stuff, when we code with Mesa"
   ]
  }
 ],
 "metadata": {
  "kernelspec": {
   "display_name": "Python 3 (ipykernel)",
   "language": "python",
   "name": "python3"
  },
  "language_info": {
   "codemirror_mode": {
    "name": "ipython",
    "version": 3
   },
   "file_extension": ".py",
   "mimetype": "text/x-python",
   "name": "python",
   "nbconvert_exporter": "python",
   "pygments_lexer": "ipython3",
   "version": "3.11.7"
  }
 },
 "nbformat": 4,
 "nbformat_minor": 5
}
