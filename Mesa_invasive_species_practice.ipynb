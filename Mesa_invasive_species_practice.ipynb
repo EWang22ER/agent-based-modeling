{
 "cells": [
  {
   "cell_type": "markdown",
   "id": "06fa161a-8f02-4fad-b6f6-4406d22d7ba1",
   "metadata": {},
   "source": [
    "# Background"
   ]
  },
  {
   "cell_type": "markdown",
   "id": "fcaad6ab-a535-4970-af28-96613dca261c",
   "metadata": {},
   "source": [
    "The following ABM was created as practice for my coding in Mesa. The situation is one I've personally imagined involving the emerald ash borer (EAB), an invasive wood-boring beetle from Asia responsible for the death and decline of millions of ash trees in North America. The emerald ash borer lays its eggs in the bark crevices of these ash trees, and the larvae from these eggs burrow into the tree where they feed. The purpose of the ABM is to examine how pest control methods, specifically the spacing of vulnerable trees, can help mitigate the pest problem. Some assumptions are made to simplify the model."
   ]
  },
  {
   "cell_type": "markdown",
   "id": "f9736d67-de35-40f4-9930-1350b8872551",
   "metadata": {},
   "source": [
    "# Import Dependencies"
   ]
  },
  {
   "cell_type": "code",
   "execution_count": 89,
   "id": "ccdb7c2e-7b20-4a71-8ecc-49c2aff5a0f0",
   "metadata": {},
   "outputs": [],
   "source": [
    "import mesa\n",
    "import random\n",
    "import numpy as np\n",
    "import matplotlib.pyplot as plt\n",
    "import warnings\n",
    "\n",
    "from mesa.experimental import JupyterViz"
   ]
  },
  {
   "cell_type": "code",
   "execution_count": 90,
   "id": "53af7928-4d53-49f3-b423-6d0a5f8d5f26",
   "metadata": {},
   "outputs": [],
   "source": [
    "# To get rid of UserWarning that keeps popping up for some reason regarding placing the same agent in a different position \n",
    "warnings.simplefilter(\"ignore\", UserWarning)"
   ]
  },
  {
   "cell_type": "markdown",
   "id": "f4174430-6b50-45b2-9f3c-7a49d27769e1",
   "metadata": {},
   "source": [
    "# Agent Classes"
   ]
  },
  {
   "cell_type": "code",
   "execution_count": 92,
   "id": "f51f4286-20fc-475a-a4df-ae6709f836a7",
   "metadata": {},
   "outputs": [],
   "source": [
    "class Ash_Tree(mesa.Agent):\n",
    "    def __init__(self, unique_id, model, pos, condition):\n",
    "        \"\"\"\n",
    "        Initializer function for ash trees' id, position, and health condition\n",
    "        \"\"\"\n",
    "        super().__init__(unique_id, model)\n",
    "        self.pos = pos\n",
    "        self.condition = condition \n",
    "    \n",
    "    def maybe_spread_infection(self):\n",
    "        \"\"\"\n",
    "        Function called in step() where ash trees that are infected with EAB spread their infection to neighboring trees\n",
    "        \"\"\"\n",
    "        if self.condition == \"Infected\":\n",
    "            neighbors = self.model.grid.get_neighbors(self.pos, moore=True, include_center=False)\n",
    "            for neighbor in neighbors:\n",
    "                if isinstance(neighbor, Ash_Tree) and neighbor.condition == \"Healthy\":\n",
    "                    neighbor.condition = \"Infected\"\n",
    "            self.condition = \"Dead\"\n",
    "\n",
    "    def step(self):\n",
    "        \"\"\"\n",
    "        Step function which occurs with each step of the model for each ash tree in the model\n",
    "        \"\"\"\n",
    "        self.maybe_spread_infection()"
   ]
  },
  {
   "cell_type": "markdown",
   "id": "a9d7df06-34ee-4b2b-a982-bae115f48147",
   "metadata": {},
   "source": [
    "# Model Class"
   ]
  },
  {
   "cell_type": "code",
   "execution_count": 94,
   "id": "30474a27-126c-4aa3-aa66-c3978b39edce",
   "metadata": {},
   "outputs": [],
   "source": [
    "class Forest(mesa.Model):\n",
    "    def __init__(self, width, height, tree_density):\n",
    "        \"\"\"\n",
    "        Initializer function which creates the ash trees and adds them to the grid and scheduler\n",
    "        \"\"\"\n",
    "        super().__init__()\n",
    "        self.width = width\n",
    "        self.height = height\n",
    "        self.tree_density = tree_density\n",
    "        self.running = True\n",
    "        \n",
    "        # Initialize scheduler\n",
    "        self.schedule = mesa.time.RandomActivation(self)\n",
    "        # Initialize grid class\n",
    "        self.grid = mesa.space.SingleGrid(self.width, self.height, torus=False)\n",
    "        # Initialize data collector \n",
    "        self.datacollector = mesa.DataCollector(\n",
    "            {\n",
    "                \"Healthy\": lambda m: self.count_type(m, \"Healthy\"),\n",
    "                \"Infected\": lambda m: self.count_type(m, \"Infected\"),\n",
    "                \"Dead\": lambda m: self.count_type(m, \"Dead\"),\n",
    "            }\n",
    "        )\n",
    "\n",
    "        # Create a list of all possible positions\n",
    "        all_possible_positions = [(x, y) for x in range(self.width) for y in range(self.height)]\n",
    "        # Shuffle the positions\n",
    "        self.random.shuffle(all_possible_positions)\n",
    "        # Calculate the number of trees to create so that we can place an ash tree with probability given by the model \n",
    "        num_of_agents = int(self.width*self.height*self.tree_density)\n",
    "\n",
    "        # Create ash trees and add them to the scheduler and grid        \n",
    "        for i in range(num_of_agents):\n",
    "            x,y = all_possible_positions[i]\n",
    "            if x == 0: \n",
    "                condition = \"Infected\"\n",
    "            else: \n",
    "                condition = \"Healthy\"\n",
    "            new_tree = Ash_Tree(i, self, (x,y), condition)\n",
    "            self.grid.place_agent(new_tree, (x,y))\n",
    "            self.schedule.add(new_tree)\n",
    "                                    \n",
    "    def step(self):\n",
    "        \"\"\"\n",
    "        Step function that advances the model \n",
    "        \"\"\"\n",
    "        self.schedule.step()\n",
    "        self.datacollector.collect(self)\n",
    "        if self.count_type(self, \"Infected\") == 0:\n",
    "            self.running = False\n",
    "\n",
    "    @staticmethod\n",
    "    def count_type(model, tree_condition):\n",
    "        \"\"\"\n",
    "        Helper method to count trees in a given condition in a given model.\n",
    "        \"\"\"\n",
    "        count = 0\n",
    "        for tree in model.schedule.agents:\n",
    "            if tree.condition == tree_condition:\n",
    "                count += 1\n",
    "        return count"
   ]
  },
  {
   "cell_type": "markdown",
   "id": "16410911-332d-408f-9842-39dc0c6de8a6",
   "metadata": {},
   "source": [
    "# Running the Model"
   ]
  },
  {
   "cell_type": "code",
   "execution_count": 96,
   "id": "89b25abf-b04e-4115-a261-4f59c7acea2c",
   "metadata": {},
   "outputs": [],
   "source": [
    "def run_model(width, height, tree_density, max_steps):\n",
    "    model = Forest(width, height, tree_density)\n",
    "    for i in range(max_steps):\n",
    "        if not model.running:\n",
    "            break\n",
    "        model.step()\n",
    "    return model.datacollector.get_model_vars_dataframe()"
   ]
  },
  {
   "cell_type": "markdown",
   "id": "988b197e-03d4-483b-9d1a-6ea9d7f2055d",
   "metadata": {},
   "source": [
    "# Getting Results"
   ]
  },
  {
   "cell_type": "code",
   "execution_count": 98,
   "id": "8b95c0ab-e6c3-4412-8452-b9feccf5c769",
   "metadata": {},
   "outputs": [
    {
     "name": "stdout",
     "output_type": "stream",
     "text": [
      "   Healthy  Infected  Dead\n",
      "0      731         4    15\n",
      "1      724         3    23\n",
      "2      715         4    31\n",
      "3      714         1    35\n",
      "4      713         1    36\n",
      "5      713         0    37\n"
     ]
    }
   ],
   "source": [
    "results = run_model(50, 50, 0.3, 100)\n",
    "print(results)\n",
    "\n",
    "plt.figure(figsize=(10, 6))\n",
    "plt.plot(results[\"Infected\"], label=\"Infected\")\n",
    "plt.plot(results[\"Healthy\"], label=\"Healthy\")\n",
    "plt.plot(results[\"Dead\"], label=\"Dead\")\n",
    "plt.xlabel(\"Steps\")\n",
    "plt.ylabel(\"Number of Trees\")\n",
    "plt.title(\"Spread of Infection in Forest\")\n",
    "plt.legend()\n",
    "plt.show()"
   ]
  },
  {
   "cell_type": "code",
   "execution_count": 99,
   "id": "68c9ce88-a795-4553-b61b-c4b8904689c0",
   "metadata": {},
   "outputs": [
    {
     "name": "stdout",
     "output_type": "stream",
     "text": [
      "    Healthy  Infected  Dead\n",
      "0      1620        53    77\n",
      "1      1518        55   177\n",
      "2      1379        63   308\n",
      "3      1245        78   427\n",
      "4      1125        59   566\n",
      "5      1022        54   674\n",
      "6       902        76   772\n",
      "7       770        70   910\n",
      "8       628        75  1047\n",
      "9       487        80  1183\n",
      "10      362        80  1308\n",
      "11      253        58  1439\n",
      "12      143        58  1549\n",
      "13       64        36  1650\n",
      "14       21        19  1710\n",
      "15        3         8  1739\n",
      "16        2         1  1747\n",
      "17        2         0  1748\n"
     ]
    }
   ],
   "source": [
    "results = run_model(50, 50, 0.7, 100)\n",
    "print(results)\n",
    "\n",
    "plt.figure(figsize=(10, 6))\n",
    "plt.plot(results[\"Infected\"], label=\"Infected\")\n",
    "plt.plot(results[\"Healthy\"], label=\"Healthy\")\n",
    "plt.plot(results[\"Dead\"], label=\"Dead\")\n",
    "plt.xlabel(\"Steps\")\n",
    "plt.ylabel(\"Number of Trees\")\n",
    "plt.title(\"Spread of Infection in Forest\")\n",
    "plt.legend()\n",
    "plt.show()"
   ]
  },
  {
   "cell_type": "markdown",
   "id": "f2bc3379-4176-4563-ac97-7e76e09c522d",
   "metadata": {},
   "source": [
    "# Visualization "
   ]
  },
  {
   "cell_type": "code",
   "execution_count": 101,
   "id": "ed7612e2-401a-4b26-8d50-9869876a4bdc",
   "metadata": {},
   "outputs": [
    {
     "data": {
      "application/vnd.jupyter.widget-view+json": {
       "model_id": "33ce48816a214d818ceca0b2d42db8df",
       "version_major": 2,
       "version_minor": 0
      },
      "text/html": [
       "Cannot show widget. You probably want to rerun the code cell above (<i>Click in the code cell, and press Shift+Enter <kbd>⇧</kbd>+<kbd>↩</kbd></i>)."
      ],
      "text/plain": [
       "Cannot show ipywidgets in text"
      ]
     },
     "metadata": {},
     "output_type": "display_data"
    }
   ],
   "source": [
    "model_params = {\n",
    "    \"tree_density\": {\n",
    "        \"type\": \"SliderFloat\",\n",
    "        \"value\": 0.4,\n",
    "        \"label\": \"Tree Density:\",\n",
    "        \"min\": 0,\n",
    "        \"max\": 1,\n",
    "        \"step\": 0.05,\n",
    "    },\n",
    "    \"width\": 50,\n",
    "    \"height\": 50,\n",
    "}\n",
    "\n",
    "def tree_portrayal(ash_tree):\n",
    "    size = 20\n",
    "    if ash_tree.condition == \"Healthy\":\n",
    "        color = \"tab:green\"\n",
    "    elif ash_tree.condition == \"Infected\":\n",
    "        color = \"tab:red\"\n",
    "    elif ash_tree.condition == \"Dead\":\n",
    "        color = \"tab:blue\"\n",
    "    return {\"size\": size, \"color\": color}\n",
    "\n",
    "page = JupyterViz(\n",
    "    Forest,\n",
    "    model_params,\n",
    "    measures=[\"Healthy\"],\n",
    "    name=\"EAB Infection Model\",\n",
    "    agent_portrayal=tree_portrayal,\n",
    ")\n",
    "\n",
    "page\n"
   ]
  },
  {
   "cell_type": "code",
   "execution_count": null,
   "id": "561d4d52-12a9-4497-b061-520f09ee7dad",
   "metadata": {},
   "outputs": [],
   "source": []
  }
 ],
 "metadata": {
  "kernelspec": {
   "display_name": "Python 3 (ipykernel)",
   "language": "python",
   "name": "python3"
  },
  "language_info": {
   "codemirror_mode": {
    "name": "ipython",
    "version": 3
   },
   "file_extension": ".py",
   "mimetype": "text/x-python",
   "name": "python",
   "nbconvert_exporter": "python",
   "pygments_lexer": "ipython3",
   "version": "3.11.7"
  }
 },
 "nbformat": 4,
 "nbformat_minor": 5
}
